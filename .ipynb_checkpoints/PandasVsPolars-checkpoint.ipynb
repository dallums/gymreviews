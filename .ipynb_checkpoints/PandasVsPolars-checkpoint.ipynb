{
 "cells": [
  {
   "cell_type": "code",
   "execution_count": 1,
   "id": "a4bb976f",
   "metadata": {},
   "outputs": [],
   "source": [
    "import os\n",
    "\n",
    "import pandas as pd\n",
    "import polars as pl\n",
    "import pyarrow as pa"
   ]
  },
  {
   "cell_type": "code",
   "execution_count": 34,
   "id": "50cf3a6b",
   "metadata": {},
   "outputs": [],
   "source": [
    "folder_path = '/Users/wernerherzog/Downloads/archive/raw'\n",
    "\n",
    "# List all CSV files in the folder\n",
    "csv_files = [file for file in os.listdir(folder_path) if file.endswith('.csv')]"
   ]
  },
  {
   "cell_type": "code",
   "execution_count": null,
   "id": "ff0a48a3",
   "metadata": {},
   "outputs": [
    {
     "name": "stderr",
     "output_type": "stream",
     "text": [
      "<timed exec>:7: DtypeWarning: Columns (11,13,57,86,93) have mixed types. Specify dtype option on import or set low_memory=False.\n",
      "<timed exec>:7: DtypeWarning: Columns (11,13,57,78,85,86) have mixed types. Specify dtype option on import or set low_memory=False.\n",
      "<timed exec>:7: DtypeWarning: Columns (11,13,57,86,93) have mixed types. Specify dtype option on import or set low_memory=False.\n",
      "<timed exec>:7: DtypeWarning: Columns (11,13,57,78,85,86,93) have mixed types. Specify dtype option on import or set low_memory=False.\n",
      "<timed exec>:7: DtypeWarning: Columns (11,13,86,93) have mixed types. Specify dtype option on import or set low_memory=False.\n",
      "<timed exec>:7: DtypeWarning: Columns (11,13,86,93) have mixed types. Specify dtype option on import or set low_memory=False.\n",
      "<timed exec>:7: DtypeWarning: Columns (11,13,57,85,86,93) have mixed types. Specify dtype option on import or set low_memory=False.\n",
      "<timed exec>:7: DtypeWarning: Columns (11,13,57,86,93) have mixed types. Specify dtype option on import or set low_memory=False.\n",
      "<timed exec>:7: DtypeWarning: Columns (11,13,78,85,86,93) have mixed types. Specify dtype option on import or set low_memory=False.\n",
      "<timed exec>:7: DtypeWarning: Columns (11,13,57,86,93) have mixed types. Specify dtype option on import or set low_memory=False.\n",
      "<timed exec>:7: DtypeWarning: Columns (11,13,57,86,93) have mixed types. Specify dtype option on import or set low_memory=False.\n",
      "<timed exec>:7: DtypeWarning: Columns (11,13,86,93) have mixed types. Specify dtype option on import or set low_memory=False.\n",
      "<timed exec>:7: DtypeWarning: Columns (11,13,57,78,85,86,93) have mixed types. Specify dtype option on import or set low_memory=False.\n",
      "<timed exec>:7: DtypeWarning: Columns (11,13,57,78,85,86,93) have mixed types. Specify dtype option on import or set low_memory=False.\n",
      "<timed exec>:7: DtypeWarning: Columns (11,13,86,93) have mixed types. Specify dtype option on import or set low_memory=False.\n",
      "<timed exec>:7: DtypeWarning: Columns (11,13,57,85,86,93) have mixed types. Specify dtype option on import or set low_memory=False.\n",
      "<timed exec>:7: DtypeWarning: Columns (11,13,78,85,86,93) have mixed types. Specify dtype option on import or set low_memory=False.\n",
      "<timed exec>:7: DtypeWarning: Columns (11,13,86,93,94) have mixed types. Specify dtype option on import or set low_memory=False.\n",
      "<timed exec>:7: DtypeWarning: Columns (11,13,57,78,85,86,93) have mixed types. Specify dtype option on import or set low_memory=False.\n",
      "<timed exec>:7: DtypeWarning: Columns (11,13,57,86,93) have mixed types. Specify dtype option on import or set low_memory=False.\n",
      "<timed exec>:7: DtypeWarning: Columns (11,13,57,86) have mixed types. Specify dtype option on import or set low_memory=False.\n",
      "<timed exec>:7: DtypeWarning: Columns (11,13,57,78,85,86,93) have mixed types. Specify dtype option on import or set low_memory=False.\n",
      "<timed exec>:7: DtypeWarning: Columns (11,13,57,85,86,93) have mixed types. Specify dtype option on import or set low_memory=False.\n",
      "<timed exec>:7: DtypeWarning: Columns (11,13,78,85,86,93) have mixed types. Specify dtype option on import or set low_memory=False.\n",
      "<timed exec>:7: DtypeWarning: Columns (11,13,57,85,86,93) have mixed types. Specify dtype option on import or set low_memory=False.\n",
      "<timed exec>:7: DtypeWarning: Columns (11,13,57,78,85,86,93) have mixed types. Specify dtype option on import or set low_memory=False.\n",
      "<timed exec>:7: DtypeWarning: Columns (11,13,57,86,93) have mixed types. Specify dtype option on import or set low_memory=False.\n",
      "<timed exec>:7: DtypeWarning: Columns (11,13,57) have mixed types. Specify dtype option on import or set low_memory=False.\n",
      "<timed exec>:7: DtypeWarning: Columns (11,13,57,86,93,94) have mixed types. Specify dtype option on import or set low_memory=False.\n",
      "<timed exec>:7: DtypeWarning: Columns (11,13,57,86,93) have mixed types. Specify dtype option on import or set low_memory=False.\n",
      "<timed exec>:7: DtypeWarning: Columns (11,13,86,93) have mixed types. Specify dtype option on import or set low_memory=False.\n",
      "<timed exec>:7: DtypeWarning: Columns (11,13,86,93) have mixed types. Specify dtype option on import or set low_memory=False.\n",
      "<timed exec>:7: DtypeWarning: Columns (11,13,57,78,85,86,93) have mixed types. Specify dtype option on import or set low_memory=False.\n",
      "<timed exec>:7: DtypeWarning: Columns (11,13,57,85,86,93) have mixed types. Specify dtype option on import or set low_memory=False.\n",
      "<timed exec>:7: DtypeWarning: Columns (11,13,86,93) have mixed types. Specify dtype option on import or set low_memory=False.\n",
      "<timed exec>:7: DtypeWarning: Columns (11,13,86,93) have mixed types. Specify dtype option on import or set low_memory=False.\n",
      "<timed exec>:7: DtypeWarning: Columns (11,13,57,86,93,94) have mixed types. Specify dtype option on import or set low_memory=False.\n",
      "<timed exec>:7: DtypeWarning: Columns (11,13,86,93) have mixed types. Specify dtype option on import or set low_memory=False.\n",
      "<timed exec>:7: DtypeWarning: Columns (11,13,57,78,85,86,93,94,101) have mixed types. Specify dtype option on import or set low_memory=False.\n",
      "<timed exec>:7: DtypeWarning: Columns (11,13,85,86,93) have mixed types. Specify dtype option on import or set low_memory=False.\n",
      "<timed exec>:7: DtypeWarning: Columns (11,13,85,86,93) have mixed types. Specify dtype option on import or set low_memory=False.\n",
      "<timed exec>:7: DtypeWarning: Columns (11,13,86,93) have mixed types. Specify dtype option on import or set low_memory=False.\n",
      "<timed exec>:7: DtypeWarning: Columns (11,13,57,78,85,86,93) have mixed types. Specify dtype option on import or set low_memory=False.\n",
      "<timed exec>:7: DtypeWarning: Columns (11,13,86,93) have mixed types. Specify dtype option on import or set low_memory=False.\n",
      "<timed exec>:7: DtypeWarning: Columns (11,13,86,93) have mixed types. Specify dtype option on import or set low_memory=False.\n",
      "<timed exec>:7: DtypeWarning: Columns (11,13,57,85,86,93) have mixed types. Specify dtype option on import or set low_memory=False.\n",
      "<timed exec>:7: DtypeWarning: Columns (11,13,86,93) have mixed types. Specify dtype option on import or set low_memory=False.\n",
      "<timed exec>:7: DtypeWarning: Columns (11,13,86,93) have mixed types. Specify dtype option on import or set low_memory=False.\n",
      "<timed exec>:7: DtypeWarning: Columns (11,13,57,86,93) have mixed types. Specify dtype option on import or set low_memory=False.\n",
      "<timed exec>:7: DtypeWarning: Columns (11,13,57,78,85,86,93) have mixed types. Specify dtype option on import or set low_memory=False.\n"
     ]
    }
   ],
   "source": [
    "%%time\n",
    "\n",
    "# Initialize an empty list to store individual DataFrames\n",
    "pd_dfs = []\n",
    "\n",
    "# Read each CSV file and append its DataFrame to the list\n",
    "for csv_file in csv_files:\n",
    "    csv_path = os.path.join(folder_path, csv_file)\n",
    "    df = pd.read_csv(csv_path)\n",
    "    pd_dfs.append(df)\n",
    "\n",
    "# Concatenate all DataFrames into a single DataFrame\n",
    "pandas_combined_df = pd.concat(pd_dfs, ignore_index=True)"
   ]
  },
  {
   "cell_type": "code",
   "execution_count": null,
   "id": "115d0547",
   "metadata": {},
   "outputs": [],
   "source": [
    "%%time\n",
    "\n",
    "# Initialize an empty list to store individual DataFrames\n",
    "pl_dfs = []\n",
    "\n",
    "# Read each CSV file and append its DataFrame to the list\n",
    "for csv_file in csv_files:\n",
    "    csv_path = os.path.join(folder_path, csv_file)\n",
    "    df = pl.read_csv(csv_path)\n",
    "    pl_dfs.append(df)\n",
    "\n",
    "# Concatenate all DataFrames into a single DataFrame\n",
    "polars_combined_df = pl.concat(pl_dfs, ignore_index=True)"
   ]
  },
  {
   "cell_type": "code",
   "execution_count": null,
   "id": "d55635ec",
   "metadata": {},
   "outputs": [],
   "source": []
  },
  {
   "cell_type": "code",
   "execution_count": 15,
   "id": "49640c1c",
   "metadata": {},
   "outputs": [
    {
     "name": "stdout",
     "output_type": "stream",
     "text": [
      "CPU times: user 17.4 s, sys: 4.7 s, total: 22.1 s\n",
      "Wall time: 22.8 s\n"
     ]
    }
   ],
   "source": [
    "%%time\n",
    "pandas_df = pd.read_csv('~/Downloads/archive/Combined_Flights_2022.csv')\n",
    "arrow_table = pa.Table.from_pandas(pandas_df)"
   ]
  },
  {
   "cell_type": "code",
   "execution_count": 18,
   "id": "23b1a0e6",
   "metadata": {},
   "outputs": [
    {
     "name": "stdout",
     "output_type": "stream",
     "text": [
      "CPU times: user 9.48 s, sys: 10.3 s, total: 19.8 s\n",
      "Wall time: 6.13 s\n"
     ]
    }
   ],
   "source": [
    "%%time\n",
    "polars_df = pl.read_csv('~/Downloads/archive/Combined_Flights_2022.csv')\n",
    "arrow_table = polars_df.to_arrow()"
   ]
  },
  {
   "cell_type": "code",
   "execution_count": 3,
   "id": "08b3032b",
   "metadata": {},
   "outputs": [
    {
     "name": "stdout",
     "output_type": "stream",
     "text": [
      "CPU times: user 6.1 s, sys: 2.73 s, total: 8.83 s\n",
      "Wall time: 4.95 s\n"
     ]
    }
   ],
   "source": [
    "%%time\n",
    "pandas_df = pd.read_parquet('~/Downloads/archive/Combined_Flights_2022.parquet')\n",
    "arrow_table = pa.Table.from_pandas(pandas_df)"
   ]
  },
  {
   "cell_type": "code",
   "execution_count": null,
   "id": "33abc97e",
   "metadata": {},
   "outputs": [],
   "source": [
    "%%time\n",
    "polars_df = pl.read_parquet('~/Downloads/archive/Combined_Flights_2022.parquet')\n",
    "arrow_table = polars_df.to_arrow()"
   ]
  },
  {
   "cell_type": "code",
   "execution_count": null,
   "id": "13ef9dab",
   "metadata": {},
   "outputs": [],
   "source": [
    "2+@"
   ]
  },
  {
   "cell_type": "code",
   "execution_count": null,
   "id": "0c76126f",
   "metadata": {},
   "outputs": [],
   "source": []
  }
 ],
 "metadata": {
  "kernelspec": {
   "display_name": "ADIA_VENV",
   "language": "python",
   "name": "adia_venv"
  },
  "language_info": {
   "codemirror_mode": {
    "name": "ipython",
    "version": 3
   },
   "file_extension": ".py",
   "mimetype": "text/x-python",
   "name": "python",
   "nbconvert_exporter": "python",
   "pygments_lexer": "ipython3",
   "version": "3.10.8"
  }
 },
 "nbformat": 4,
 "nbformat_minor": 5
}
